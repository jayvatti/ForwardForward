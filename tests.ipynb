{
 "cells": [
  {
   "cell_type": "code",
   "execution_count": 1,
   "id": "40f2e748-73ab-44f3-82a6-16ed9ff80c92",
   "metadata": {},
   "outputs": [],
   "source": [
    "from torchvision import datasets\n",
    "from torch.utils.data import DataLoader\n",
    "import torch"
   ]
  },
  {
   "cell_type": "code",
   "execution_count": 3,
   "id": "02eeac56-6773-4c71-be37-9494ac687595",
   "metadata": {},
   "outputs": [],
   "source": [
    "import torchvision.transforms as transforms\n",
    "\n",
    "transform = transforms.ToTensor()\n",
    "\n",
    "dataset = datasets.MNIST(\n",
    "    root='./data/',\n",
    "    train=True,\n",
    "    download=True,\n",
    "    transform=transform\n",
    ")\n",
    "\n",
    "loader = DataLoader(\n",
    "    dataset=dataset,\n",
    "    batch_size=1000,  \n",
    "    shuffle=False\n",
    ")"
   ]
  },
  {
   "cell_type": "code",
   "execution_count": 4,
   "id": "021881ec-dd54-462c-84f7-a469f3f0f445",
   "metadata": {},
   "outputs": [
    {
     "name": "stdout",
     "output_type": "stream",
     "text": [
      "Mean: 0.13066045939922333\n",
      "Std: 0.30810779333114624\n"
     ]
    }
   ],
   "source": [
    "mean_accumulator = torch.tensor(0.0)\n",
    "squared_sum_accumulator = torch.tensor(0.0)\n",
    "total_pixels = 0\n",
    "\n",
    "for data, _ in loader:\n",
    "    data = data.view(data.size(0), -1)\n",
    "    batch_pixels = data.numel()\n",
    "    total_pixels += batch_pixels\n",
    "    mean_accumulator += data.sum()\n",
    "    squared_sum_accumulator += (data ** 2).sum()\n",
    "\n",
    "mean = mean_accumulator / total_pixels\n",
    "std = ((squared_sum_accumulator / total_pixels) - (mean ** 2)).sqrt()\n",
    "\n",
    "print(\"Mean:\", mean.item())\n",
    "print(\"Std:\", std.item())"
   ]
  },
  {
   "cell_type": "code",
   "execution_count": null,
   "id": "41040db1-647b-47bc-bcfc-e5cfc6f76253",
   "metadata": {},
   "outputs": [],
   "source": []
  }
 ],
 "metadata": {
  "kernelspec": {
   "display_name": "Python 3 (ipykernel)",
   "language": "python",
   "name": "python3"
  },
  "language_info": {
   "codemirror_mode": {
    "name": "ipython",
    "version": 3
   },
   "file_extension": ".py",
   "mimetype": "text/x-python",
   "name": "python",
   "nbconvert_exporter": "python",
   "pygments_lexer": "ipython3",
   "version": "3.10.12"
  }
 },
 "nbformat": 4,
 "nbformat_minor": 5
}
